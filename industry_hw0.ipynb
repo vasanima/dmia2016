import numpy as np
import matplotlib.pyplot as plt
plt.figure(1)

plt.subplot(222)

x = np.arange(0., 10., 0.1)

plt.xlabel('Ox')
plt.ylabel('Oy')
plt.title('Graphs in Python')
plt.grid(True)
plt.plot(cos(x),'r', x*3, 'g')
plt.grid(True)



plt.subplot(221)

t = np.arange(0., 5., 0.2)

plt.xlabel('Ox')
plt.ylabel('Oy')
plt.title('Graphs in Python')
plt.grid(True)
plt.plot( t, 'ro', t**2, t*2, 'bs', sin(t), 'g^')
savefig('example.png')
plt.show()
