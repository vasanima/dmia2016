{
 "cells": [
  {
   "cell_type": "markdown",
   "metadata": {},
   "source": [
    "# Задание \"Знакомство с Python\""
   ]
  },
  {
   "cell_type": "markdown",
   "metadata": {},
   "source": [
    "## Python"
   ]
  },
  {
   "cell_type": "markdown",
   "metadata": {},
   "source": [
    "1.**Напишите решение Fizzbuzz question из https://habrahabr.ru/post/298134/"
   ]
  },
  {
   "cell_type": "code",
   "execution_count": 31,
   "metadata": {
    "collapsed": false
   },
   "outputs": [
    {
     "name": "stdout",
     "output_type": "stream",
     "text": [
      "1\n",
      "2\n",
      "Fizz\n",
      "4\n",
      "Buzz\n",
      "Fizz\n",
      "7\n",
      "8\n",
      "Fizz\n",
      "Buzz\n",
      "11\n",
      "Fizz\n",
      "13\n",
      "14\n",
      "FizzBuzz\n",
      "16\n",
      "17\n",
      "Fizz\n",
      "19\n",
      "Buzz\n",
      "Fizz\n",
      "22\n",
      "23\n",
      "Fizz\n",
      "Buzz\n",
      "26\n",
      "Fizz\n",
      "28\n",
      "29\n",
      "FizzBuzz\n",
      "31\n",
      "32\n",
      "Fizz\n",
      "34\n",
      "Buzz\n",
      "Fizz\n",
      "37\n",
      "38\n",
      "Fizz\n",
      "Buzz\n",
      "41\n",
      "Fizz\n",
      "43\n",
      "44\n",
      "FizzBuzz\n",
      "46\n",
      "47\n",
      "Fizz\n",
      "49\n",
      "Buzz\n",
      "Fizz\n",
      "52\n",
      "53\n",
      "Fizz\n",
      "Buzz\n",
      "56\n",
      "Fizz\n",
      "58\n",
      "59\n",
      "FizzBuzz\n",
      "61\n",
      "62\n",
      "Fizz\n",
      "64\n",
      "Buzz\n",
      "Fizz\n",
      "67\n",
      "68\n",
      "Fizz\n",
      "Buzz\n",
      "71\n",
      "Fizz\n",
      "73\n",
      "74\n",
      "FizzBuzz\n",
      "76\n",
      "77\n",
      "Fizz\n",
      "79\n",
      "Buzz\n",
      "Fizz\n",
      "82\n",
      "83\n",
      "Fizz\n",
      "Buzz\n",
      "86\n",
      "Fizz\n",
      "88\n",
      "89\n",
      "FizzBuzz\n",
      "91\n",
      "92\n",
      "Fizz\n",
      "94\n",
      "Buzz\n",
      "Fizz\n",
      "97\n",
      "98\n",
      "Fizz\n",
      "Buzz\n"
     ]
    }
   ],
   "source": [
    "for i in range (1,101):\n",
    "    if i % 3 == 0 and i%5 != 0:  #число кратно только 3\n",
    "        print('Fizz')\n",
    "    elif i%5 == 0 and i%3 != 0:  #число кратно только 5\n",
    "        print('Buzz') \n",
    "    elif i%5 == 0 and i%3 == 0:  #число кратно 5 и 3\n",
    "        print('FizzBuzz')\n",
    "    else:\n",
    "        print(i)"
   ]
  },
  {
   "cell_type": "markdown",
   "metadata": {},
   "source": [
    "2.**Напишите вычисление сотого числа Фибоначчи"
   ]
  },
  {
   "cell_type": "code",
   "execution_count": 24,
   "metadata": {
    "collapsed": false
   },
   "outputs": [
    {
     "name": "stdout",
     "output_type": "stream",
     "text": [
      "100\n",
      "354224848179261915075\n"
     ]
    }
   ],
   "source": [
    "aN_2 = 0#N-2=0\n",
    "aN_1 = 1 #N-1=1\n",
    "N = int(input()) #считываем номер числа из полследовательности, по усл 100\n",
    "if N == 0:\n",
    "    print(aN_2)\n",
    "elif N == 1:\n",
    "    print(aN_1)\n",
    "else:\n",
    "    for i in range (1,N):\n",
    "        aN = aN_1 + aN_2\n",
    "        aN_2 = aN_1 \n",
    "        aN_1 = aN\n",
    "    print(aN)"
   ]
  },
  {
   "cell_type": "code",
   "execution_count": 23,
   "metadata": {
    "collapsed": false
   },
   "outputs": [
    {
     "data": {
      "text/plain": [
       "354224848179261915075"
      ]
     },
     "execution_count": 23,
     "metadata": {},
     "output_type": "execute_result"
    }
   ],
   "source": [
    "M = {0: 0, 1: 1}\n",
    "\n",
    "def fib(n):\n",
    "    if n in M:\n",
    "        return M[n]\n",
    "    M[n] = fib(n - 1) + fib(n - 2)\n",
    "    return M[n]\n",
    "fib(100)"
   ]
  },
  {
   "cell_type": "markdown",
   "metadata": {},
   "source": [
    "3.**Напишите функцию, принимающую на вход массив и возвращающую его отсортированную версию. Для сортировки реализуйте quick sort с нулевым элементом массива в качестве опорного элемента (pivot'а)."
   ]
  },
  {
   "cell_type": "code",
   "execution_count": 25,
   "metadata": {
    "collapsed": false
   },
   "outputs": [
    {
     "name": "stdout",
     "output_type": "stream",
     "text": [
      "[17, 20, 26, 31, 44, 54, 55, 77, 93]\n"
     ]
    }
   ],
   "source": [
    "def quickSort(alist):\n",
    "   quickSortHelper(alist,0,len(alist)-1)\n",
    "\n",
    "def quickSortHelper(alist,first,last):\n",
    "   if first<last:\n",
    "\n",
    "       splitpoint = partition(alist,first,last)\n",
    "\n",
    "       quickSortHelper(alist,first,splitpoint-1)\n",
    "       quickSortHelper(alist,splitpoint+1,last)\n",
    "\n",
    "\n",
    "def partition(alist,first,last):\n",
    "   pivotvalue = alist[first]\n",
    "\n",
    "   leftmark = first+1\n",
    "   rightmark = last\n",
    "\n",
    "   done = False\n",
    "   while not done:\n",
    "\n",
    "       while leftmark <= rightmark and alist[leftmark] <= pivotvalue:\n",
    "           leftmark = leftmark + 1\n",
    "\n",
    "       while alist[rightmark] >= pivotvalue and rightmark >= leftmark:\n",
    "           rightmark = rightmark -1\n",
    "\n",
    "       if rightmark < leftmark:\n",
    "           done = True\n",
    "       else:\n",
    "           temp = alist[leftmark]\n",
    "           alist[leftmark] = alist[rightmark]\n",
    "           alist[rightmark] = temp\n",
    "\n",
    "   temp = alist[first]\n",
    "   alist[first] = alist[rightmark]\n",
    "   alist[rightmark] = temp\n",
    "\n",
    "\n",
    "   return rightmark\n",
    "\n",
    "alist = [54,26,93,17,77,31,44,55,20]\n",
    "quickSort(alist)\n",
    "print(alist)\n"
   ]
  },
  {
   "cell_type": "markdown",
   "metadata": {},
   "source": [
    "4.** (Упражнение на синтаксис Python) С помощью list comprehension перепишите свой quick sort так, чтобы тело функции занимало одну строчку. Можете нагуглить решение и разобраться с ним, а можете придумать сами."
   ]
  },
  {
   "cell_type": "code",
   "execution_count": 26,
   "metadata": {
    "collapsed": false
   },
   "outputs": [
    {
     "data": {
      "text/plain": [
       "[17, 20, 26, 31, 44, 54, 55, 77, 93]"
      ]
     },
     "execution_count": 26,
     "metadata": {},
     "output_type": "execute_result"
    }
   ],
   "source": [
    "def qsort(L):\n",
    "    if L: return qsort([x for x in L if x<L[0]]) + [x for x in L if x==L[0]] + qsort([x for x in L if x>L[0]])\n",
    "    return []\n",
    "qsort([54,26,93,17,77,31,44,55,20])"
   ]
  },
  {
   "cell_type": "markdown",
   "metadata": {},
   "source": [
    "## NumPy"
   ]
  },
  {
   "cell_type": "markdown",
   "metadata": {},
   "source": [
    "1.** Напишите свой аналог numpy.linspace с использованием цикла и с использованием list comprehension. Сравните все три варианта по времени работы."
   ]
  },
  {
   "cell_type": "code",
   "execution_count": 30,
   "metadata": {
    "collapsed": false
   },
   "outputs": [
    {
     "name": "stdout",
     "output_type": "stream",
     "text": [
      "Elapsed time: 0.081 sec\n",
      "Elapsed time: 4.957 sec\n",
      "Elapsed time: 4.420 sec\n"
     ]
    }
   ],
   "source": [
    "first = 2.0\n",
    "last = 3.0\n",
    "n = 10**7\n",
    "\n",
    "def method1(first, last, n):\n",
    "    return (numpy.linspace(first, last, n))\n",
    "\n",
    "def method2(first, last, n):\n",
    "    a = numpy.array([0.0] * n)\n",
    "    x = first\n",
    "    for i in range (0, n):\n",
    "        a[i] = first + i *(last - first)/(n-1)\n",
    "    return(a)\n",
    "\n",
    "def method3(first, last, n):\n",
    "    list = [first + i *(last - first)/(n-1) for i in range(n)]\n",
    "    return(numpy.asarray(list)) \n",
    "import time\n",
    " \n",
    "class Profiler(object):\n",
    "    def __enter__(self):\n",
    "        self._startTime = time.time()\n",
    "         \n",
    "    def __exit__(self, type, value, traceback):\n",
    "        print ('Elapsed time: {:.3f} sec'.format(time.time() - self._startTime))\n",
    "\n",
    "with Profiler() as p:\n",
    "    method1(first, last, n)\n",
    "    \n",
    "with Profiler() as p:\n",
    "    method2(first, last, n)\n",
    "    \n",
    "with Profiler() as p:\n",
    "    method3(first, last, n)"
   ]
  },
  {
   "cell_type": "markdown",
   "metadata": {},
   "source": [
    "1.** Сравните по производительности основные операции с массивами numpy.ndarray и list"
   ]
  },
  {
   "cell_type": "code",
   "execution_count": 5,
   "metadata": {
    "collapsed": false
   },
   "outputs": [
    {
     "name": "stdout",
     "output_type": "stream",
     "text": [
      "Elapsed time: 0.211 sec\n"
     ]
    },
    {
     "ename": "LinAlgError",
     "evalue": "1-dimensional array given. Array must be at least two-dimensional",
     "output_type": "error",
     "traceback": [
      "\u001b[0;31m---------------------------------------------------------------------------\u001b[0m",
      "\u001b[0;31mLinAlgError\u001b[0m                               Traceback (most recent call last)",
      "\u001b[0;32m<ipython-input-5-1ed63e835192>\u001b[0m in \u001b[0;36m<module>\u001b[0;34m()\u001b[0m\n\u001b[1;32m     17\u001b[0m \u001b[1;33m\u001b[0m\u001b[0m\n\u001b[1;32m     18\u001b[0m \u001b[1;32mwith\u001b[0m \u001b[0mProfiler\u001b[0m\u001b[1;33m(\u001b[0m\u001b[1;33m)\u001b[0m \u001b[1;32mas\u001b[0m \u001b[0mp\u001b[0m\u001b[1;33m:\u001b[0m\u001b[1;33m\u001b[0m\u001b[0m\n\u001b[0;32m---> 19\u001b[0;31m     \u001b[0mdejstvija\u001b[0m\u001b[1;33m(\u001b[0m\u001b[0ma\u001b[0m\u001b[1;33m,\u001b[0m \u001b[0mb\u001b[0m\u001b[1;33m)\u001b[0m\u001b[1;33m\u001b[0m\u001b[0m\n\u001b[0m\u001b[1;32m     20\u001b[0m \u001b[1;33m\u001b[0m\u001b[0m\n\u001b[1;32m     21\u001b[0m \u001b[0ma\u001b[0m\u001b[1;33m.\u001b[0m\u001b[0mtolist\u001b[0m\u001b[1;33m(\u001b[0m\u001b[1;33m)\u001b[0m\u001b[1;33m\u001b[0m\u001b[0m\n",
      "\u001b[0;32m<ipython-input-5-1ed63e835192>\u001b[0m in \u001b[0;36mdejstvija\u001b[0;34m(a, b)\u001b[0m\n\u001b[1;32m     10\u001b[0m \u001b[1;33m\u001b[0m\u001b[0m\n\u001b[1;32m     11\u001b[0m \u001b[1;32mdef\u001b[0m \u001b[0mdejstvija\u001b[0m\u001b[1;33m(\u001b[0m\u001b[0ma\u001b[0m\u001b[1;33m,\u001b[0m \u001b[0mb\u001b[0m\u001b[1;33m)\u001b[0m\u001b[1;33m:\u001b[0m\u001b[1;33m\u001b[0m\u001b[0m\n\u001b[0;32m---> 12\u001b[0;31m     \u001b[1;32mreturn\u001b[0m \u001b[1;33m(\u001b[0m\u001b[0ma\u001b[0m \u001b[1;33m+\u001b[0m \u001b[0mb\u001b[0m\u001b[1;33m,\u001b[0m \u001b[0ma\u001b[0m \u001b[1;33m-\u001b[0m \u001b[0mb\u001b[0m\u001b[1;33m,\u001b[0m \u001b[0ma\u001b[0m \u001b[1;33m*\u001b[0m \u001b[0mb\u001b[0m\u001b[1;33m,\u001b[0m \u001b[0ma\u001b[0m\u001b[1;33m.\u001b[0m\u001b[0mT\u001b[0m\u001b[1;33m,\u001b[0m \u001b[0mb\u001b[0m\u001b[1;33m.\u001b[0m\u001b[0mT\u001b[0m\u001b[1;33m,\u001b[0m \u001b[0ma\u001b[0m\u001b[1;33m/\u001b[0m\u001b[0mk\u001b[0m\u001b[1;33m,\u001b[0m \u001b[0mb\u001b[0m\u001b[1;33m/\u001b[0m\u001b[0mk\u001b[0m\u001b[1;33m,\u001b[0m\u001b[0mnp\u001b[0m\u001b[1;33m.\u001b[0m\u001b[0mlinalg\u001b[0m\u001b[1;33m.\u001b[0m\u001b[0mdet\u001b[0m\u001b[1;33m(\u001b[0m\u001b[0ma\u001b[0m\u001b[1;33m)\u001b[0m\u001b[1;33m,\u001b[0m \u001b[0mnp\u001b[0m\u001b[1;33m.\u001b[0m\u001b[0mlinalg\u001b[0m\u001b[1;33m.\u001b[0m\u001b[0mdet\u001b[0m\u001b[1;33m(\u001b[0m\u001b[0mb\u001b[0m\u001b[1;33m)\u001b[0m\u001b[1;33m)\u001b[0m\u001b[1;33m\u001b[0m\u001b[0m\n\u001b[0m\u001b[1;32m     13\u001b[0m \u001b[1;33m\u001b[0m\u001b[0m\n\u001b[1;32m     14\u001b[0m \u001b[0mk\u001b[0m \u001b[1;33m=\u001b[0m \u001b[1;36m5\u001b[0m\u001b[1;33m\u001b[0m\u001b[0m\n",
      "\u001b[0;32mC:\\Program Files\\Anaconda3\\lib\\site-packages\\numpy\\linalg\\linalg.py\u001b[0m in \u001b[0;36mdet\u001b[0;34m(a)\u001b[0m\n\u001b[1;32m   1770\u001b[0m     \u001b[0ma\u001b[0m \u001b[1;33m=\u001b[0m \u001b[0masarray\u001b[0m\u001b[1;33m(\u001b[0m\u001b[0ma\u001b[0m\u001b[1;33m)\u001b[0m\u001b[1;33m\u001b[0m\u001b[0m\n\u001b[1;32m   1771\u001b[0m     \u001b[0m_assertNoEmpty2d\u001b[0m\u001b[1;33m(\u001b[0m\u001b[0ma\u001b[0m\u001b[1;33m)\u001b[0m\u001b[1;33m\u001b[0m\u001b[0m\n\u001b[0;32m-> 1772\u001b[0;31m     \u001b[0m_assertRankAtLeast2\u001b[0m\u001b[1;33m(\u001b[0m\u001b[0ma\u001b[0m\u001b[1;33m)\u001b[0m\u001b[1;33m\u001b[0m\u001b[0m\n\u001b[0m\u001b[1;32m   1773\u001b[0m     \u001b[0m_assertNdSquareness\u001b[0m\u001b[1;33m(\u001b[0m\u001b[0ma\u001b[0m\u001b[1;33m)\u001b[0m\u001b[1;33m\u001b[0m\u001b[0m\n\u001b[1;32m   1774\u001b[0m     \u001b[0mt\u001b[0m\u001b[1;33m,\u001b[0m \u001b[0mresult_t\u001b[0m \u001b[1;33m=\u001b[0m \u001b[0m_commonType\u001b[0m\u001b[1;33m(\u001b[0m\u001b[0ma\u001b[0m\u001b[1;33m)\u001b[0m\u001b[1;33m\u001b[0m\u001b[0m\n",
      "\u001b[0;32mC:\\Program Files\\Anaconda3\\lib\\site-packages\\numpy\\linalg\\linalg.py\u001b[0m in \u001b[0;36m_assertRankAtLeast2\u001b[0;34m(*arrays)\u001b[0m\n\u001b[1;32m    200\u001b[0m         \u001b[1;32mif\u001b[0m \u001b[0mlen\u001b[0m\u001b[1;33m(\u001b[0m\u001b[0ma\u001b[0m\u001b[1;33m.\u001b[0m\u001b[0mshape\u001b[0m\u001b[1;33m)\u001b[0m \u001b[1;33m<\u001b[0m \u001b[1;36m2\u001b[0m\u001b[1;33m:\u001b[0m\u001b[1;33m\u001b[0m\u001b[0m\n\u001b[1;32m    201\u001b[0m             raise LinAlgError('%d-dimensional array given. Array must be '\n\u001b[0;32m--> 202\u001b[0;31m                     'at least two-dimensional' % len(a.shape))\n\u001b[0m\u001b[1;32m    203\u001b[0m \u001b[1;33m\u001b[0m\u001b[0m\n\u001b[1;32m    204\u001b[0m \u001b[1;32mdef\u001b[0m \u001b[0m_assertSquareness\u001b[0m\u001b[1;33m(\u001b[0m\u001b[1;33m*\u001b[0m\u001b[0marrays\u001b[0m\u001b[1;33m)\u001b[0m\u001b[1;33m:\u001b[0m\u001b[1;33m\u001b[0m\u001b[0m\n",
      "\u001b[0;31mLinAlgError\u001b[0m: 1-dimensional array given. Array must be at least two-dimensional"
     ]
    }
   ],
   "source": [
    "import numpy as np\n",
    "import time\n",
    "\n",
    "class Profiler(object):\n",
    "    def __enter__(self):\n",
    "        self._startTime = time.time()\n",
    "         \n",
    "    def __exit__(self, type, value, traceback):\n",
    "        print ('Elapsed time: {:.3f} sec'.format(time.time() - self._startTime))\n",
    "\n",
    "def dejstvija(a, b):\n",
    "    return (a + b, a - b, a * b, a.T, b.T, a/k, b/k)\n",
    "\n",
    "k = 5\n",
    "a = np.arange(0, 10**7, 1)\n",
    "b = np.arange(0, 10**7, 1)\n",
    "\n",
    "with Profiler() as p:\n",
    "    dejstvija(a, b)\n",
    "\n",
    "a.tolist()\n",
    "b.tolist()\n",
    "\n",
    "with Profiler() as p:\n",
    "    dejstvija(a, b)\n",
    "   "
   ]
  },
  {
   "cell_type": "markdown",
   "metadata": {},
   "source": [
    "## Matplotlib"
   ]
  },
  {
   "cell_type": "markdown",
   "metadata": {},
   "source": [
    "1.** Постройте графики трех элементарных функций (на ваш выбор) на одной координатной плоскости\n",
    "2.** Добавьте подписи к осям и легенду в TeXе к получившимся графикам\n",
    "3.** Пользуясь документацией Matplotlib, изобразите справа от исходной кординатной плоскости еще одну, еще с двумя графиками элементарных функций.\n",
    "4.** Сохраните рисунок в файл строчкой кода на Python."
   ]
  },
  {
   "cell_type": "code",
   "execution_count": 51,
   "metadata": {
    "collapsed": false
   },
   "outputs": [
    {
     "data": {
      "image/png": "[encoded data removed]",
      "text/plain": [
       "<matplotlib.figure.Figure at 0xa9292e8>"
      ]
     },
     "metadata": {},
     "output_type": "display_data"
    }
   ],
   "source": [
    "import numpy as np\n",
    "import matplotlib.pyplot as plt\n",
    "import math\n",
    "\n",
    "plt.figure(1)\n",
    "\n",
    "plt.subplot(222)\n",
    "\n",
    "x = np.arange(0., 10., 0.1)\n",
    "\n",
    "plt.xlabel('Ox')\n",
    "plt.ylabel('Oy')\n",
    "plt.title('Graphs in Python')\n",
    "plt.grid(True)\n",
    "plt.plot(np.cos(x),'r', x*3, 'g')\n",
    "plt.grid(True)\n",
    "\n",
    "\n",
    "\n",
    "plt.subplot(221)\n",
    "\n",
    "t = np.arange(0., 5., 0.2)\n",
    "\n",
    "plt.xlabel('Ox')\n",
    "plt.ylabel('Oy')\n",
    "plt.title('Graphs in Python')\n",
    "plt.grid(True)\n",
    "plt.plot( t, 'ro', t*2, 'bs', np.sin(t), 'g^')\n",
    "plt.savefig('example.png')\n",
    "plt.show()\n"
   ]
  },
  {
   "cell_type": "markdown",
   "metadata": {},
   "source": [
    "## SciPy"
   ]
  },
  {
   "cell_type": "markdown",
   "metadata": {},
   "source": [
    "1.** Сгенерируйте матрицу размера 5 х 5, заполненную результатами генерации чисел из стандартного нормального распределения (матожидание - 0, дисперсия - 1)\n",
    "2.** Найдите собственные числа и собственные векторы этой матрицы (если забыли определение - можно посмотреть в Википедии)\n",
    "3.** Проверьте, что результаты - действительно собственные числа и собственные векторы"
   ]
  },
  {
   "cell_type": "code",
   "execution_count": 7,
   "metadata": {
    "collapsed": false
   },
   "outputs": [
    {
     "name": "stdout",
     "output_type": "stream",
     "text": [
      "[[-0.6751735537702404, 0.13016137368449293, 0.5690183102055294, -0.7813884350080963, -0.21757015965153398], [0.8476620571781157, 0.1271602186244422, 0.28740967009482216, -1.346495103489248, 0.8428339708299216], [0.30816111965489246, 0.24441397715632812, -1.0864441946028878, -0.2399944986451296, 0.4076124546294698], [0.6250211750477209, -0.5535070473456256, 0.48532866916109096, 1.9018660344607345, -1.7284059009185135], [-0.888367246371096, 0.8752123017825757, -0.7991325231617233, -0.6769055441772407, 0.24575692263040594]]\n"
     ]
    },
    {
     "data": {
      "text/plain": [
       "(array([ 2.73310657+0.j        ,  0.08690101+0.53548493j,\n",
       "         0.08690101-0.53548493j, -1.41648624+0.j        , -0.97725693+0.j        ]),\n",
       " array([[ 0.19510967+0.j        ,  0.23823785+0.26708334j,\n",
       "          0.23823785-0.26708334j, -0.65400993+0.j        , -0.19455882+0.j        ],\n",
       "        [ 0.55529706+0.j        ,  0.74582144+0.j        ,\n",
       "          0.74582144-0.j        ,  0.34089491+0.j        , -0.19507984+0.j        ],\n",
       "        [ 0.12869993+0.j        ,  0.14962604-0.04732813j,\n",
       "          0.14962604+0.04732813j,  0.62935269+0.j        ,  0.71171860+0.j        ],\n",
       "        [-0.74473380+0.j        ,  0.19014043-0.35980036j,\n",
       "          0.19014043+0.35980036j, -0.03801413+0.j        ,  0.24396572+0.j        ],\n",
       "        [ 0.28702837+0.j        , -0.02248624-0.35343512j,\n",
       "         -0.02248624+0.35343512j, -0.24193343+0.j        ,  0.59835448+0.j        ]]))"
      ]
     },
     "execution_count": 7,
     "metadata": {},
     "output_type": "execute_result"
    }
   ],
   "source": [
    "import random\n",
    "import numpy as np\n",
    "\n",
    "size = 5\n",
    "\n",
    "matrix = [[random.gauss(0,1) for i in range(size)] for j in range(size)]\n",
    "\n",
    "#matrix = np.ones((5,5))\n",
    "\n",
    "print(matrix)\n",
    "\n",
    "np.linalg.det(matrix)\n",
    "np.linalg.eig(matrix)\n",
    "\n",
    "def solve(matrix,size):\n",
    "    c = []\n",
    "    d = 0\n",
    "    print_matrix(matrix,size)\n",
    "    if size == 0:\n",
    "        for i in range(len(matrix)):\n",
    "            d = d + matrix[i]\n",
    "        return d\n",
    "    elif len(matrix) == 4:\n",
    "        c = (matrix[0] * matrix[3]) - (matrix[1] * matrix[2])\n",
    "        print(c)\n",
    "        return c\n",
    "    else:\n",
    "        for j in range(size):\n",
    "            new_matrix = []\n",
    "            for i in range(size*size):\n",
    "                if i % size != j and i > = size:\n",
    "                    new_matrix.append(matrix[i])\n",
    "\n",
    "            c.append(solve(new_matrix,size-1) * matrix[j] * ((-1)**(j+2)))\n",
    "\n",
    "        d = solve(c,0)\n",
    "        return d"
   ]
  }
 ],
 "metadata": {
  "anaconda-cloud": {},
  "kernelspec": {
   "display_name": "Python [conda root]",
   "language": "python",
   "name": "conda-root-py"
  },
  "language_info": {
   "codemirror_mode": {
    "name": "ipython",
    "version": 3
   },
   "file_extension": ".py",
   "mimetype": "text/x-python",
   "name": "python",
   "nbconvert_exporter": "python",
   "pygments_lexer": "ipython3",
   "version": "3.5.2"
  }
 },
 "nbformat": 4,
 "nbformat_minor": 1
}
